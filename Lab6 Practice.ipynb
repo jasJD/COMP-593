{
  "nbformat": 4,
  "nbformat_minor": 0,
  "metadata": {
    "colab": {
      "name": "Untitled12.ipynb",
      "provenance": [],
      "authorship_tag": "ABX9TyMiCeOrKDnAjuHL6U/uIjqe",
      "include_colab_link": true
    },
    "kernelspec": {
      "name": "python3",
      "display_name": "Python 3"
    },
    "language_info": {
      "name": "python"
    }
  },
  "cells": [
    {
      "cell_type": "markdown",
      "metadata": {
        "id": "view-in-github",
        "colab_type": "text"
      },
      "source": [
        "<a href=\"https://colab.research.google.com/github/jasJD/COMP-593/blob/main/Lab6%20Practice.ipynb\" target=\"_parent\"><img src=\"https://colab.research.google.com/assets/colab-badge.svg\" alt=\"Open In Colab\"/></a>"
      ]
    },
    {
      "cell_type": "code",
      "execution_count": 1,
      "metadata": {
        "colab": {
          "base_uri": "https://localhost:8080/",
          "height": 130
        },
        "id": "nlMHGwikzFCi",
        "outputId": "77f2284b-d6f8-4092-f358-a34c5779f503"
      },
      "outputs": [
        {
          "output_type": "error",
          "ename": "SyntaxError",
          "evalue": "ignored",
          "traceback": [
            "\u001b[0;36m  File \u001b[0;32m\"<ipython-input-1-78365e5898d6>\"\u001b[0;36m, line \u001b[0;32m27\u001b[0m\n\u001b[0;31m    resp_msg = requests.post(\" https://pastebin.com/api/api_post.php\", data=params)\u001b[0m\n\u001b[0m           ^\u001b[0m\n\u001b[0;31mSyntaxError\u001b[0m\u001b[0;31m:\u001b[0m invalid syntax\n"
          ]
        }
      ],
      "source": [
        "from pprint import pprint \n",
        "from sys import argv\n",
        "import requests\n",
        "\n",
        "\n",
        "def main():\n",
        "    user_num = argv[1]\n",
        "    dict = get_user_info(user_num)\n",
        "\n",
        "    if dict:\n",
        "\n",
        "        user_strings =  get_user_strings(dict)\n",
        "        pastebin_url = post_to_pastebin(user_strings[0], user_strings[1])\n",
        "        print(pastebin_url)\n",
        "\n",
        "def post_to_pastebin(title, body):\n",
        "    print(\"Posting to Pastebin...\", end='')\n",
        "    \n",
        "    params ={\n",
        "\n",
        "        'api_dev_key': \"f4R0OTFza_qTQ1NZJYLjoCeLqoHQux4X\",\n",
        "        'api_option': 'paste',\n",
        "        'api_paste_code': body,\n",
        "        'api_paste_name': title\n",
        "    \n",
        "    \n",
        "    resp_msg = requests.post(\" https://pastebin.com/api/api_post.php\", data=params)\n",
        "\n",
        "    if resp_msg.status_code == 200:\n",
        "        print('Success')\n",
        "        return resp_msg.text\n",
        "    else:\n",
        "        print('failed. Code:',resp_msg.status_code)\n",
        "        return str(resp_msg.status_code)\n",
        "    }\n",
        "\n",
        "def get_user_strings(user_dict):\n",
        "    title = user_dict['name'] + \"'s Location\"\n",
        "    body_text = \"Latitude: \" + user_dict['address']['geo']['lat'] + \"\\n\"\n",
        "    body_text += \"Longitude: \" + user_dict['address']['geo']['lng']\n",
        "    return (title,body_text)\n",
        "    \n",
        "\n",
        "def get_user_info(user_num):\n",
        "    print(\"Getting user info...\", end='')\n",
        "    resp_msg = requests.get(\"https://jsonplaceholder.typicode.com/users/\" + user_num)\n",
        "\n",
        "    if resp_msg.status_code == 200:\n",
        "        print('Success')\n",
        "        return resp_msg.json()\n",
        "    else:\n",
        "        print('failed. Code:',resp_msg.status_code)\n",
        "        return \n",
        "    \n",
        "main()\n",
        "\n",
        "\n",
        "\n",
        "\n"
      ]
    }
  ]
}