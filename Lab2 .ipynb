{
  "nbformat": 4,
  "nbformat_minor": 0,
  "metadata": {
    "colab": {
      "name": "Untitled8.ipynb",
      "provenance": [],
      "collapsed_sections": [],
      "authorship_tag": "ABX9TyOAiHof6ZEevLJtyThkCg+k",
      "include_colab_link": true
    },
    "kernelspec": {
      "name": "python3",
      "display_name": "Python 3"
    },
    "language_info": {
      "name": "python"
    }
  },
  "cells": [
    {
      "cell_type": "markdown",
      "metadata": {
        "id": "view-in-github",
        "colab_type": "text"
      },
      "source": [
        "<a href=\"https://colab.research.google.com/github/jasJD/COMP-593/blob/main/Lab2%20.ipynb\" target=\"_parent\"><img src=\"https://colab.research.google.com/assets/colab-badge.svg\" alt=\"Open In Colab\"/></a>"
      ]
    },
    {
      "cell_type": "code",
      "execution_count": 3,
      "metadata": {
        "colab": {
          "base_uri": "https://localhost:8080/"
        },
        "id": "RoxDMtFvPVNh",
        "outputId": "cdf0e179-1f94-41ae-9f73-968ff1c1ac5b"
      },
      "outputs": [
        {
          "output_type": "stream",
          "name": "stdout",
          "text": [
            "Response: 200 🎉🎉🎉 \n",
            "\n",
            "Name:ditto\n",
            "('Weight:', 40)\n",
            "Type: normal\n",
            "Uh Oh, got 405\n"
          ]
        }
      ],
      "source": [
        "from http import client\n",
        "import json\n",
        "import urllib\n",
        "\n",
        "cxn = client.HTTPSConnection('pokeapi.co', 443)\n",
        "\n",
        "\n",
        "cxn.request('GET','https://pokeapi.co/api/v2/pokemon/ditto')\n",
        "\n",
        "response = cxn.getresponse()\n",
        "\n",
        "if response.status == 200:\n",
        "  print('Response:',response.status, '🎉🎉🎉', '\\n')\n",
        "else:\n",
        "  print('Uh Oh, got',response.status)\n",
        "\n",
        "\n",
        "jsonData = response.read().decode()\n",
        "\n",
        "\n",
        "\n",
        "dictionary = json.loads(jsonData)\n",
        "\n",
        "pokeName =\"Name:\" + dictionary['name']  \n",
        "pokeWeight ='Weight:', dictionary['weight'] \n",
        "pokeType = 'Type: ' + dictionary['types'][0]['type']['name']\n",
        "pokeInfo = print(pokeName),print(pokeWeight),print(pokeType)\n",
        "\n",
        "pasteBin = client.HTTPSConnection('pastebin.com', 443)\n",
        "\n",
        "\n",
        "requestParams = {\n",
        "    'api_dev_key': 'f4R0OTFza_qTQ1NZJYLjoCeLqoHQux4X',\n",
        "    'api_option': \"paste\",\n",
        "    'api_paste_code': pokeInfo\n",
        "}\n",
        "\n",
        "\n",
        "requestBody = urllib.parse.urlencode(requestParams)\n",
        "\n",
        "#Since we are URLEncoding the request Body, we need to tell Pastebin that it can expect x-www-form-urlencoded content, by adding this information to the request header\n",
        "pasteBinHeaders = {'Content-Type': 'application/x-www-form-urlencoded'}\n",
        "\n",
        "#When you are ready, you will pass the requestBody and the pasteBinHeaders to a pastebin request object, filling in the parameters as necessary.\n",
        "pasteBinRequest = pasteBin.request('POST', '/api/api_post.php', body=requestBody, headers=pasteBinHeaders)\n",
        " \n",
        "\n",
        "pasteBinBody = client.HTTPSConnection('pastebin.com', 443)\n",
        "pasteBinBody.request('GET','/api/api_post.php')\n",
        "\n",
        "response1 = pasteBinBody.getresponse()\n",
        "if response1.status == 200:\n",
        "  print('Response:',response1.status, '🎉🎉🎉', '\\n')\n",
        "else:\n",
        "  print('Uh Oh, got',response1.status)"
      ]
    }
  ]
}