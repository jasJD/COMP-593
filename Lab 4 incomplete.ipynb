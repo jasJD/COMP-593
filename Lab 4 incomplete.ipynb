{
  "nbformat": 4,
  "nbformat_minor": 0,
  "metadata": {
    "colab": {
      "name": "Untitled10.ipynb",
      "provenance": [],
      "authorship_tag": "ABX9TyOQM3oVEFVLQdtWcZbib1I9",
      "include_colab_link": true
    },
    "kernelspec": {
      "name": "python3",
      "display_name": "Python 3"
    },
    "language_info": {
      "name": "python"
    }
  },
  "cells": [
    {
      "cell_type": "markdown",
      "metadata": {
        "id": "view-in-github",
        "colab_type": "text"
      },
      "source": [
        "<a href=\"https://colab.research.google.com/github/jasJD/COMP-593/blob/main/Lab%204%20incomplete.ipynb\" target=\"_parent\"><img src=\"https://colab.research.google.com/assets/colab-badge.svg\" alt=\"Open In Colab\"/></a>"
      ]
    },
    {
      "cell_type": "code",
      "source": [
        "import sqlite3\n",
        "\n",
        "\n",
        "myConnection = sqlite3.connect('social_network.db')\n",
        "\n",
        "\n",
        "myCursor = myConnection.cursor()\n",
        "\n",
        "#The Primary Key column has been provided for you,\n",
        "#Replace '#!...' with the remaining column names, datatypes, and foreign key declarations.\n",
        "#Use the Lecture notes and the previous lab if you are unsure.\n",
        "createRelationshipsTable = \"\"\"CREATE TABLE IF NOT EXISTS relationships(\n",
        "                          id integer PRIMARY KEY NOT NULL,\n",
        "                          user_id integer NOT NULL,\n",
        "                          friend_id integer NOT NULL,\n",
        "                          FOREIGN KEY (user_id) REFERENCES people (id),\n",
        "                          FOREIGN KEY (friend_id) REFERENCES people (id)\n",
        "                        );\"\"\"\n",
        "\n",
        "#Once again, we will execute the query, persist the changes, and close our connection.\n",
        "myCursor.execute(createRelationshipsTable)\n",
        "myConnection.commit()\n",
        "myConnection.close()"
      ],
      "metadata": {
        "id": "geMf11VlJ_HQ"
      },
      "execution_count": 21,
      "outputs": []
    },
    {
      "cell_type": "code",
      "execution_count": 26,
      "metadata": {
        "colab": {
          "base_uri": "https://localhost:8080/",
          "height": 234
        },
        "id": "B6-jIGV2w6YP",
        "outputId": "c30bc016-e303-46dd-dd3a-afa70e04c3d3"
      },
      "outputs": [
        {
          "output_type": "error",
          "ename": "OperationalError",
          "evalue": "ignored",
          "traceback": [
            "\u001b[0;31m---------------------------------------------------------------------------\u001b[0m",
            "\u001b[0;31mOperationalError\u001b[0m                          Traceback (most recent call last)",
            "\u001b[0;32m<ipython-input-26-52d43f47ab7c>\u001b[0m in \u001b[0;36m<module>\u001b[0;34m()\u001b[0m\n\u001b[1;32m     21\u001b[0m   \u001b[0margs\u001b[0m \u001b[0;34m=\u001b[0m \u001b[0;34m(\u001b[0m\u001b[0muser_id\u001b[0m\u001b[0;34m,\u001b[0m \u001b[0mfriend_id\u001b[0m\u001b[0;34m)\u001b[0m\u001b[0;34m\u001b[0m\u001b[0;34m\u001b[0m\u001b[0m\n\u001b[1;32m     22\u001b[0m \u001b[0;34m\u001b[0m\u001b[0m\n\u001b[0;32m---> 23\u001b[0;31m \u001b[0mmyCursor\u001b[0m\u001b[0;34m.\u001b[0m\u001b[0mexecute\u001b[0m\u001b[0;34m(\u001b[0m\u001b[0maddRelationshipQuery\u001b[0m\u001b[0;34m,\u001b[0m \u001b[0margs\u001b[0m\u001b[0;34m)\u001b[0m\u001b[0;34m\u001b[0m\u001b[0;34m\u001b[0m\u001b[0m\n\u001b[0m\u001b[1;32m     24\u001b[0m \u001b[0;34m\u001b[0m\u001b[0m\n\u001b[1;32m     25\u001b[0m \u001b[0mmyConnection\u001b[0m\u001b[0;34m.\u001b[0m\u001b[0mcommit\u001b[0m\u001b[0;34m(\u001b[0m\u001b[0;34m)\u001b[0m\u001b[0;34m\u001b[0m\u001b[0;34m\u001b[0m\u001b[0m\n",
            "\u001b[0;31mOperationalError\u001b[0m: no such table: relationships"
          ]
        }
      ],
      "source": [
        "import sqlite3\n",
        "from datetime import datetime #For generating dates and times\n",
        "from random import randrange #For generating random numbers within a range\n",
        "myConnection = sqlite3.connect('social_network (1).db')\n",
        "myCursor = myConnection.cursor()\n",
        "\n",
        "addRelationshipQuery = \"\"\"INSERT INTO relationships(user_id, friend_id)\n",
        "\n",
        "                      VALUES (?,?);\"\"\"\n",
        "                      \n",
        "for _ in range(1000):\n",
        " \n",
        " \n",
        "  user_id = randrange(1, 1000)\n",
        " \n",
        "  \n",
        "  friend_id = user_id\n",
        "  while friend_id == user_id:\n",
        "    friend_id = randrange(1,1001)\n",
        "\n",
        "  args = (user_id, friend_id)\n",
        "  \n",
        "myCursor.execute(addRelationshipQuery, args)\n",
        "\n",
        "myConnection.commit()\n",
        "myConnection.close()\n"
      ]
    },
    {
      "cell_type": "code",
      "source": [
        "import sqlite3\n",
        "from pprint import pprint\n",
        "\n",
        "myConnection = sqlite3.connect('social_network.db')\n",
        "myCursor = myConnection.cursor()\n",
        "\n",
        "selectStatement = \"\"\"Select * FROM relationships\n",
        "                     LIMIT 20;\"\"\"\n",
        "\n",
        "\n",
        "myCursor.execute(selectStatement)\n",
        "results = myCursor.fetchall()\n",
        "pprint(results)\n",
        "\n",
        "myConnection.close()"
      ],
      "metadata": {
        "colab": {
          "base_uri": "https://localhost:8080/",
          "height": 234
        },
        "id": "J8dzjm53GxVA",
        "outputId": "0592dbbc-6562-4b76-e723-1d635fb5fa0f"
      },
      "execution_count": 12,
      "outputs": [
        {
          "output_type": "error",
          "ename": "OperationalError",
          "evalue": "ignored",
          "traceback": [
            "\u001b[0;31m---------------------------------------------------------------------------\u001b[0m",
            "\u001b[0;31mOperationalError\u001b[0m                          Traceback (most recent call last)",
            "\u001b[0;32m<ipython-input-12-c90ca8201416>\u001b[0m in \u001b[0;36m<module>\u001b[0;34m()\u001b[0m\n\u001b[1;32m      9\u001b[0m \u001b[0;34m\u001b[0m\u001b[0m\n\u001b[1;32m     10\u001b[0m \u001b[0;34m\u001b[0m\u001b[0m\n\u001b[0;32m---> 11\u001b[0;31m \u001b[0mmyCursor\u001b[0m\u001b[0;34m.\u001b[0m\u001b[0mexecute\u001b[0m\u001b[0;34m(\u001b[0m\u001b[0mselectStatement\u001b[0m\u001b[0;34m)\u001b[0m\u001b[0;34m\u001b[0m\u001b[0;34m\u001b[0m\u001b[0m\n\u001b[0m\u001b[1;32m     12\u001b[0m \u001b[0mresults\u001b[0m \u001b[0;34m=\u001b[0m \u001b[0mmyCursor\u001b[0m\u001b[0;34m.\u001b[0m\u001b[0mfetchall\u001b[0m\u001b[0;34m(\u001b[0m\u001b[0;34m)\u001b[0m\u001b[0;34m\u001b[0m\u001b[0;34m\u001b[0m\u001b[0m\n\u001b[1;32m     13\u001b[0m \u001b[0mpprint\u001b[0m\u001b[0;34m(\u001b[0m\u001b[0mresults\u001b[0m\u001b[0;34m)\u001b[0m\u001b[0;34m\u001b[0m\u001b[0;34m\u001b[0m\u001b[0m\n",
            "\u001b[0;31mOperationalError\u001b[0m: no such table: relationships"
          ]
        }
      ]
    }
  ]
}