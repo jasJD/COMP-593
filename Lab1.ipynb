{
  "nbformat": 4,
  "nbformat_minor": 0,
  "metadata": {
    "colab": {
      "name": "Untitled7.ipynb",
      "provenance": [],
      "collapsed_sections": [],
      "authorship_tag": "ABX9TyM7JAauL7+e0YbnK7mVAvg7",
      "include_colab_link": true
    },
    "kernelspec": {
      "name": "python3",
      "display_name": "Python 3"
    },
    "language_info": {
      "name": "python"
    }
  },
  "cells": [
    {
      "cell_type": "markdown",
      "metadata": {
        "id": "view-in-github",
        "colab_type": "text"
      },
      "source": [
        "<a href=\"https://colab.research.google.com/github/jasJD/COMP-593/blob/main/Lab1.ipynb\" target=\"_parent\"><img src=\"https://colab.research.google.com/assets/colab-badge.svg\" alt=\"Open In Colab\"/></a>"
      ]
    },
    {
      "cell_type": "code",
      "execution_count": 7,
      "metadata": {
        "colab": {
          "base_uri": "https://localhost:8080/"
        },
        "id": "TXCS-tWb-zKm",
        "outputId": "a9c67dd0-942c-49f3-e15d-efb244339af3"
      },
      "outputs": [
        {
          "output_type": "stream",
          "name": "stdout",
          "text": [
            "Requirement already satisfied: pyfiglet in /usr/local/lib/python3.7/dist-packages (0.8.post1)\n",
            "Select a font by typing the number of the font: \n",
            " 1. puffy \n",
            " 2. alligator \n",
            " 3. star wars \n",
            " 4. slant \n",
            " 5. doh \n",
            " >>> 4\n",
            "Select the message you want to seebhai\n",
            "    __    __          _ \n",
            "   / /_  / /_  ____ _(_)\n",
            "  / __ \\/ __ \\/ __ `/ / \n",
            " / /_/ / / / / /_/ / /  \n",
            "/_.___/_/ /_/\\__,_/_/   \n",
            "                        \n",
            "\n"
          ]
        }
      ],
      "source": [
        "!pip install pyfiglet\n",
        "from pyfiglet import Figlet\n",
        "\n",
        "figlet = Figlet()\n",
        "\n",
        "\n",
        "selectedFont = int(input(\"Select a font by typing the number of the font: \\n 1. puffy \\n 2. alligator \\n 3. star wars \\n 4. slant \\n 5. doh \\n >>> \"))\n",
        "if selectedFont == 1:\n",
        "\n",
        "  f = Figlet(font=\"puffy\")  \n",
        "\n",
        "if selectedFont == 2:\n",
        "\n",
        "    f = Figlet(font=\"alligator\")\n",
        "\n",
        "if selectedFont == 3:\n",
        "\n",
        "    f = Figlet(font=\"fuzzy\")\n",
        "\n",
        "if selectedFont == 4:\n",
        "\n",
        "     f = Figlet(font=\"slant\")\n",
        "\n",
        "if selectedFont == 5: \n",
        "\n",
        "     f = Figlet(font=\"doh\")\n",
        "\n",
        "\n",
        "selectedText = input(\"Select the message you want to see\")\n",
        "print(f.renderText(selectedText))"
      ]
    }
  ]
}