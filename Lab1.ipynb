{
  "nbformat": 4,
  "nbformat_minor": 0,
  "metadata": {
    "colab": {
      "name": "Untitled6.ipynb",
      "provenance": [],
      "collapsed_sections": [],
      "authorship_tag": "ABX9TyMMbuD8UJpmBACxIN5Q0XMX",
      "include_colab_link": true
    },
    "kernelspec": {
      "name": "python3",
      "display_name": "Python 3"
    },
    "language_info": {
      "name": "python"
    }
  },
  "cells": [
    {
      "cell_type": "markdown",
      "metadata": {
        "id": "view-in-github",
        "colab_type": "text"
      },
      "source": [
        "<a href=\"https://colab.research.google.com/github/jasJD/COMP-593/blob/main/Lab1.ipynb\" target=\"_parent\"><img src=\"https://colab.research.google.com/assets/colab-badge.svg\" alt=\"Open In Colab\"/></a>"
      ]
    },
    {
      "cell_type": "code",
      "execution_count": null,
      "metadata": {
        "colab": {
          "base_uri": "https://localhost:8080/"
        },
        "id": "qLIOdJgF3Zaa",
        "outputId": "35e57cb5-6321-4c1d-a058-cc510132a0e5"
      },
      "outputs": [
        {
          "output_type": "stream",
          "name": "stdout",
          "text": [
            "Requirement already satisfied: pyfiglet in /usr/local/lib/python3.7/dist-packages (0.8.post1)\n"
          ]
        }
      ],
      "source": [
        "!pip install pyfiglet\n",
        "from pyfiglet import Figlet\n",
        "\n",
        "figlet = Figlet()\n",
        "\n",
        "\n",
        "selectedFont = input(\"Select a font by typing its name: \\n 1. puffy \\n 2. alligator \\n 3. fuzzy \\n 4. slant \\n 5. doh \\n >>> \")\n",
        "f = Figlet(font=selectedFont)\n",
        "selectedText = input(\"Select the message you want to see\")\n",
        "print(f.renderText(selectedText))"
      ]
    },
    {
      "cell_type": "code",
      "source": [
        ""
      ],
      "metadata": {
        "id": "3jq7UHkp74tw"
      },
      "execution_count": null,
      "outputs": []
    }
  ]
}