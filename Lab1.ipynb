{
  "nbformat": 4,
  "nbformat_minor": 0,
  "metadata": {
    "colab": {
      "name": "Untitled7.ipynb",
      "provenance": [],
      "collapsed_sections": [],
      "authorship_tag": "ABX9TyM7JAauL7+e0YbnK7mVAvg7",
      "include_colab_link": true
    },
    "kernelspec": {
      "name": "python3",
      "display_name": "Python 3"
    },
    "language_info": {
      "name": "python"
    }
  },
  "cells": [
    {
      "cell_type": "markdown",
      "metadata": {
        "id": "view-in-github",
        "colab_type": "text"
      },
      "source": [
        "<a href=\"https://colab.research.google.com/github/jasJD/COMP-593/blob/main/Lab1.ipynb\" target=\"_parent\"><img src=\"https://colab.research.google.com/assets/colab-badge.svg\" alt=\"Open In Colab\"/></a>"
      ]
    },
    {
      "cell_type": "code",
      "execution_count": 8,
      "metadata": {
        "colab": {
          "base_uri": "https://localhost:8080/"
        },
        "id": "TXCS-tWb-zKm",
        "outputId": "eedee19f-758a-48d4-bac1-30f894a53583"
      },
      "outputs": [
        {
          "output_type": "stream",
          "name": "stdout",
          "text": [
            "Requirement already satisfied: pyfiglet in /usr/local/lib/python3.7/dist-packages (0.8.post1)\n",
            "Select a font by typing the number of the font: \n",
            " 1. puffy \n",
            " 2. alligator \n",
            " 3. star wars \n",
            " 4. slant \n",
            " 5. doh \n",
            " >>> 5\n",
            "Select the message you want to seehi\n",
            "                            \n",
            "                            \n",
            "hhhhhhh               iiii  \n",
            "h:::::h              i::::i \n",
            "h:::::h               iiii  \n",
            "h:::::h                     \n",
            " h::::h hhhhh       iiiiiii \n",
            " h::::hh:::::hhh    i:::::i \n",
            " h::::::::::::::hh   i::::i \n",
            " h:::::::hhh::::::h  i::::i \n",
            " h::::::h   h::::::h i::::i \n",
            " h:::::h     h:::::h i::::i \n",
            " h:::::h     h:::::h i::::i \n",
            " h:::::h     h:::::h i::::i \n",
            " h:::::h     h:::::hi::::::i\n",
            " h:::::h     h:::::hi::::::i\n",
            " h:::::h     h:::::hi::::::i\n",
            " hhhhhhh     hhhhhhhiiiiiiii\n",
            "                            \n",
            "                            \n",
            "                            \n",
            "                            \n",
            "                            \n",
            "                            \n",
            "                            \n",
            "\n"
          ]
        }
      ],
      "source": [
        "!pip install pyfiglet\n",
        "from pyfiglet import Figlet\n",
        "\n",
        "figlet = Figlet()\n",
        "\n",
        "\n",
        "selectedFont = int(input(\"Select a font by typing the number of the font: \\n 1. puffy \\n 2. alligator \\n 3. star wars \\n 4. slant \\n 5. doh \\n >>> \"))\n",
        "if selectedFont == 1:\n",
        "\n",
        "  f = Figlet(font=\"puffy\")  \n",
        "\n",
        "if selectedFont == 2:\n",
        "\n",
        "    f = Figlet(font=\"alligator\")\n",
        "\n",
        "if selectedFont == 3:\n",
        "\n",
        "    f = Figlet(font=\"fuzzy\")\n",
        "\n",
        "if selectedFont == 4:\n",
        "\n",
        "     f = Figlet(font=\"slant\")\n",
        "\n",
        "if selectedFont == 5: \n",
        "\n",
        "     f = Figlet(font=\"doh\")\n",
        "\n",
        "\n",
        "selectedText = input(\"Select the message you want to see\")\n",
        "print(f.renderText(selectedText))"
      ]
    }
  ]
}