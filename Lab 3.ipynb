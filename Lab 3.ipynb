{
  "nbformat": 4,
  "nbformat_minor": 0,
  "metadata": {
    "colab": {
      "name": "Untitled9.ipynb",
      "provenance": [],
      "authorship_tag": "ABX9TyOD4vh680lX9eMTh8ZjcEpT",
      "include_colab_link": true
    },
    "kernelspec": {
      "name": "python3",
      "display_name": "Python 3"
    },
    "language_info": {
      "name": "python"
    }
  },
  "cells": [
    {
      "cell_type": "markdown",
      "metadata": {
        "id": "view-in-github",
        "colab_type": "text"
      },
      "source": [
        "<a href=\"https://colab.research.google.com/github/jasJD/COMP-593/blob/main/Lab%203.ipynb\" target=\"_parent\"><img src=\"https://colab.research.google.com/assets/colab-badge.svg\" alt=\"Open In Colab\"/></a>"
      ]
    },
    {
      "cell_type": "code",
      "source": [
        "import sqlite3\n",
        "\n",
        "#Retreive the Connection object\n",
        "myConnection = sqlite3.connect('social_network.db')\n",
        "\n",
        "#Once we have a Connection object, we can generate a Cursor object, and use that to run our SQL Queries\n",
        "myCursor = myConnection.cursor()\n",
        "\n",
        "#Let's define the SQL Query we will use to create our first table:\n",
        "createPeopleTable = \"\"\" CREATE TABLE IF NOT EXISTS people (\n",
        "                          id integer PRIMARY KEY,\n",
        "                          name text NOT NULL,\n",
        "                          email text NOT NULL,\n",
        "                          address text NOT NULL,\n",
        "                          city text NOT NULL,\n",
        "                          province text NOT NULL,\n",
        "                          country text NOT NULL,\n",
        "                          phone text,\n",
        "                          bio text,\n",
        "                          dob date NOT NULL,\n",
        "                          heatmap integer,\n",
        "                          created_at datetime NOT NULL,\n",
        "                          updated_at datetime NOT NULL,\n",
        "                          ipv4 text\n",
        "                        );\"\"\"\n",
        "\n",
        "#Now that we have the string to create our table,\n",
        "#Cursor objects have an execute() method which will accept an SQL string and perform the operations described.\n",
        "\n",
        "myCursor.execute(createPeopleTable)\n",
        "\n",
        "#We can confirm if our table was created successfully by running the following SQL Query\n",
        "#pragma_table_info is an internal SQLite function that will retun information about a table\n",
        "myCursor.execute(\"SELECT group_concat(name, ', ') FROM pragma_table_info('people')\")\n",
        "print(myCursor.fetchone())\n",
        "\n",
        "#We use to the commit() method on the database Connection object to persist our changes\n",
        "myConnection.commit()\n",
        "\n",
        "#It is always a good idea to close a connection when it will no longer be used\n",
        "myConnection.close()"
      ],
      "metadata": {
        "colab": {
          "base_uri": "https://localhost:8080/"
        },
        "id": "HQHYZB-1IllB",
        "outputId": "39ccfda2-d898-436f-b514-e0c1cab8f16c"
      },
      "execution_count": 17,
      "outputs": [
        {
          "output_type": "stream",
          "name": "stdout",
          "text": [
            "('id, name, email, address, city, province, country, phone, bio, dob, heatmap, created_at, updated_at, ipv4',)\n"
          ]
        }
      ]
    },
    {
      "cell_type": "code",
      "execution_count": 27,
      "metadata": {
        "colab": {
          "base_uri": "https://localhost:8080/"
        },
        "id": "oX0wPOPo_iF1",
        "outputId": "8d0ff39d-3f12-487c-a310-bbe21529c66a"
      },
      "outputs": [
        {
          "output_type": "stream",
          "name": "stdout",
          "text": [
            "Requirement already satisfied: faker in /usr/local/lib/python3.7/dist-packages (13.2.0)\n",
            "Requirement already satisfied: python-dateutil>=2.4 in /usr/local/lib/python3.7/dist-packages (from faker) (2.8.2)\n",
            "Requirement already satisfied: typing-extensions>=3.10.0.2 in /usr/local/lib/python3.7/dist-packages (from faker) (3.10.0.2)\n",
            "Requirement already satisfied: six>=1.5 in /usr/local/lib/python3.7/dist-packages (from python-dateutil>=2.4->faker) (1.15.0)\n",
            "[]\n",
            "[(1,\n",
            "  'Edward Houston',\n",
            "  'krista97@gmail.com',\n",
            "  '0501 Rogers Loop',\n",
            "  'North Bobbyland',\n",
            "  'South Carolina',\n",
            "  'Martinique',\n",
            "  '(098)130-7122x6576',\n",
            "  'Road usually such good clearly nor.',\n",
            "  '1995-02-27',\n",
            "  2064,\n",
            "  '2022-02-23 01:29:01.146811',\n",
            "  '2022-02-23 01:29:01.146812',\n",
            "  '123.171.8.81')]\n"
          ]
        }
      ],
      "source": [
        "\n",
        "\n",
        "!pip install faker\n",
        "import sqlite3\n",
        "from pprint import pprint \n",
        "from faker import Faker\n",
        "from datetime import datetime \n",
        "\n",
        "\n",
        "myConnection = sqlite3.connect('social_network.db')\n",
        "\n",
        "\n",
        "myCursor = myConnection.cursor()\n",
        "\n",
        "\n",
        "People = \"\"\" CREATE TABLE IF NOT EXISTS people (\n",
        "                          id integer PRIMARY KEY,\n",
        "                          name text NOT NULL,\n",
        "                          email text NOT NULL,\n",
        "                          address text NOT NULL,\n",
        "                          city text NOT NULL,\n",
        "                          province text NOT NULL,\n",
        "                          country text NOT NULL,\n",
        "                          phone text,\n",
        "                          bio text,\n",
        "                          dob date NOT NULL,\n",
        "                          heatmap integer,\n",
        "                          created_at datetime NOT NULL,\n",
        "                          updated_at datetime NOT NULL,\n",
        "                          ipv4 text\n",
        "                        );\"\"\"\n",
        "\n",
        "addPersonQuery = \"\"\"INSERT INTO people (name, \n",
        "                      email, \n",
        "                      address, \n",
        "                      city, \n",
        "                      province, \n",
        "                      country, \n",
        "                      phone, \n",
        "                      bio,\n",
        "                      dob,\n",
        "                      heatmap,\n",
        "                      created_at, \n",
        "                      updated_at, \n",
        "                      ipv4)\n",
        "                  VALUES (?, ?, ?, ?, ?, ?, ?, ?, ?, ?, ?, ?,?);\"\"\"\n",
        "\n",
        "fake = Faker()\n",
        "\n",
        "\n",
        "myConnection.commit\n",
        "for i in range(1000):\n",
        "  myPerson = (fake.name(), \n",
        "            fake.ascii_email(), \n",
        "            fake.street_address(), \n",
        "            fake.city(),\n",
        "            fake.administrative_unit(),\n",
        "            fake.country(),\n",
        "            fake.phone_number(), \n",
        "            fake.sentence(nb_words=5),\n",
        "            fake.date_of_birth(),\n",
        "            fake.random_int(min=999, max=2500),\n",
        "            datetime.now(), \n",
        "            datetime.now(),\n",
        "            fake.ipv4())\n",
        "pprint(myCursor.fetchall())\n",
        "\n",
        "myCursor.execute(addPersonQuery, myPerson)\n",
        "myCursor.execute(\"SELECT * from people\")\n",
        "pprint(myCursor.fetchall())\n",
        "for record in myCursor:\n",
        "  pprint(record)\n",
        "\n",
        "\n",
        "\n",
        "\n",
        "#Ideally, you will want to create a loop that will iterate 1000 times,\n",
        "#Observe the example in the earlier code block showing the parameter tuple `myPerson`\n",
        "#You can duplicate that inside your loop and replace those fields with calls to the appropriate faker provider method\n",
        "#Execute your statement inside the loop,\n",
        "#But, don't forget to commit and close your connection when you have finished!\n"
      ]
    }
  ]
}